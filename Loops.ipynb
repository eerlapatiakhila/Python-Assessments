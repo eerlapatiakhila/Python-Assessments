{
 "cells": [
  {
   "cell_type": "code",
   "execution_count": 1,
   "id": "2997a80e-fd0d-43ad-8762-5fb0acfe1c22",
   "metadata": {},
   "outputs": [
    {
     "name": "stdout",
     "output_type": "stream",
     "text": [
      "Bright IT career\n",
      "Bright IT career\n",
      "Bright IT career\n",
      "Bright IT career\n",
      "Bright IT career\n",
      "Bright IT career\n",
      "Bright IT career\n",
      "Bright IT career\n",
      "Bright IT career\n",
      "Bright IT career\n"
     ]
    }
   ],
   "source": [
    "#  program 1: print \"bright IT careers 10 times using for loop\n",
    "for i in range(10):\n",
    "    print(\"Bright IT career\")"
   ]
  },
  {
   "cell_type": "code",
   "execution_count": 3,
   "id": "4332e850-39ce-4a71-9e1c-6c7858bd84c5",
   "metadata": {},
   "outputs": [
    {
     "name": "stdout",
     "output_type": "stream",
     "text": [
      "1\n",
      "2\n",
      "3\n",
      "4\n",
      "5\n",
      "6\n",
      "7\n",
      "8\n",
      "9\n",
      "10\n",
      "11\n",
      "12\n",
      "13\n",
      "14\n",
      "15\n",
      "16\n",
      "17\n",
      "18\n",
      "19\n",
      "20\n"
     ]
    }
   ],
   "source": [
    "# program 2 : program to print 1 to 20 numbers using the while loop.\n",
    "a = 1\n",
    "# Using while loop to print numbers from 1 to 20\n",
    "while a <= 20:\n",
    "    print(a)\n",
    "    a += 1  "
   ]
  },
  {
   "cell_type": "code",
   "execution_count": 7,
   "id": "42e6ed50-3faf-4f45-a2df-49298824ce06",
   "metadata": {},
   "outputs": [
    {
     "name": "stdin",
     "output_type": "stream",
     "text": [
      " first number:  10\n",
      " second number:  10\n"
     ]
    },
    {
     "name": "stdout",
     "output_type": "stream",
     "text": [
      "10 is equal to 10\n",
      "10 is equal to 10\n"
     ]
    }
   ],
   "source": [
    "#program 3:Program to equal operator and not equal operators\n",
    "\n",
    "a = input(\" first number: \")\n",
    "b = input(\" second number: \")\n",
    "\n",
    "# Using equal (==) operator\n",
    "if a == b:\n",
    "    print(f\"{a} is equal to {b}\")\n",
    "else:\n",
    "    print(f\"{a} is not equal to {b}\")\n",
    "\n",
    "# Using not equal (!=) operator\n",
    "if a != b:\n",
    "    print(f\"{a} is not equal to {b}\")\n",
    "else:\n",
    "    print(f\"{a} is equal to {b}\")"
   ]
  },
  {
   "cell_type": "code",
   "execution_count": 9,
   "id": "3f05b9a4-0809-4bf3-afeb-dbd332432978",
   "metadata": {},
   "outputs": [
    {
     "name": "stdout",
     "output_type": "stream",
     "text": [
      "1 is Odd\n",
      "2 is Even\n",
      "3 is Odd\n",
      "4 is Even\n",
      "5 is Odd\n",
      "6 is Even\n",
      "7 is Odd\n",
      "8 is Even\n",
      "9 is Odd\n",
      "10 is Even\n",
      "11 is Odd\n",
      "12 is Even\n",
      "13 is Odd\n",
      "14 is Even\n",
      "15 is Odd\n",
      "16 is Even\n",
      "17 is Odd\n",
      "18 is Even\n",
      "19 is Odd\n"
     ]
    }
   ],
   "source": [
    "#program 4 :program to print the odd and even numbers.\n",
    "for num in range(1, 20):\n",
    "    if num % 2 == 0:\n",
    "        print(f\"{num} is Even\")\n",
    "    else:\n",
    "        print(f\"{num} is Odd\")"
   ]
  },
  {
   "cell_type": "code",
   "execution_count": 13,
   "id": "5cadf176-ccfb-4bd1-8037-852f166f7ec3",
   "metadata": {},
   "outputs": [
    {
     "name": "stdin",
     "output_type": "stream",
     "text": [
      "Enter first number:  10\n",
      "Enter second number:  20\n",
      "Enter third number:  30\n"
     ]
    },
    {
     "name": "stdout",
     "output_type": "stream",
     "text": [
      "The largest number is: 30\n"
     ]
    }
   ],
   "source": [
    "#program 5 :program to print largest number among three numbers.\n",
    "def find_largest(a, b, c):\n",
    "    if a >= b and a >= c:\n",
    "        largest = a\n",
    "    elif b >= a and b >= c:\n",
    "        largest = b\n",
    "    else:\n",
    "        largest = c\n",
    "    return largest\n",
    "\n",
    "# Example usage\n",
    "num1 = input(\"Enter first number: \")\n",
    "num2 = input(\"Enter second number: \")\n",
    "num3 = input(\"Enter third number: \")\n",
    "\n",
    "largest_number = find_largest(num1, num2, num3)\n",
    "print(f\"The largest number is: {largest_number}\")"
   ]
  },
  {
   "cell_type": "code",
   "execution_count": 19,
   "id": "b8429047-9405-4f5a-9c96-eebf300ae625",
   "metadata": {},
   "outputs": [
    {
     "name": "stdout",
     "output_type": "stream",
     "text": [
      "10\n",
      "12\n",
      "14\n",
      "16\n",
      "18\n",
      "20\n"
     ]
    }
   ],
   "source": [
    "#program 6:print even number between 10 and 20 using while\n",
    "a = 10 \n",
    "while a <= 20:  \n",
    "    if a % 2 == 0: \n",
    "        print(a)\n",
    "    a += 1  "
   ]
  },
  {
   "cell_type": "code",
   "execution_count": 25,
   "id": "05c54036-cf8e-485b-8d1b-9a1022847d32",
   "metadata": {},
   "outputs": [
    {
     "name": "stdout",
     "output_type": "stream",
     "text": [
      "1\n",
      "2\n",
      "3\n",
      "4\n",
      "5\n",
      "6\n",
      "7\n",
      "8\n",
      "9\n",
      "10\n"
     ]
    }
   ],
   "source": [
    "#program 7:print 1 to 10 using the do-while loop statement.\n",
    "num = 1  \n",
    "while True:  \n",
    "    print(num)\n",
    "    num += 1\n",
    "    if num > 10:  \n",
    "        break"
   ]
  },
  {
   "cell_type": "code",
   "execution_count": 27,
   "id": "cf0e5d5b-d49b-45f8-b36a-ec64954cf2ee",
   "metadata": {},
   "outputs": [
    {
     "name": "stdin",
     "output_type": "stream",
     "text": [
      "Enter a number:  153\n"
     ]
    },
    {
     "name": "stdout",
     "output_type": "stream",
     "text": [
      "153 is an Armstrong number.\n"
     ]
    }
   ],
   "source": [
    "#program 8:Armstrong number or not\n",
    "def is_armstrong(num):\n",
    "    num_str = str(num)\n",
    "    num_digits = len(num_str)\n",
    "    sum_of_powers = sum(int(digit) ** num_digits for digit in num_str)\n",
    "    \n",
    "    return sum_of_powers == num\n",
    "\n",
    "# Example usage\n",
    "number = int(input(\"Enter a number: \"))\n",
    "\n",
    "if is_armstrong(number):\n",
    "    print(f\"{number} is an Armstrong number.\")\n",
    "else:\n",
    "    print(f\"{number} is not an Armstrong number.\")"
   ]
  },
  {
   "cell_type": "code",
   "execution_count": 29,
   "id": "ced8c601-f86a-4d4a-92fc-3e72562892bf",
   "metadata": {},
   "outputs": [
    {
     "name": "stdin",
     "output_type": "stream",
     "text": [
      "Enter a number:  3\n"
     ]
    },
    {
     "name": "stdout",
     "output_type": "stream",
     "text": [
      "3 is a Prime number.\n"
     ]
    }
   ],
   "source": [
    "# program 9 : Prime or not\n",
    "# Function to check if a number is prime\n",
    "def is_prime(n):\n",
    "    if n <= 1:\n",
    "        return False  \n",
    "    for i in range(2, int(n ** 0.5) + 1): \n",
    "        if n % i == 0:\n",
    "            return False  \n",
    "    return True  \n",
    "num = int(input(\"Enter a number: \"))\n",
    "if is_prime(num):\n",
    "    print(f\"{num} is a Prime number.\")\n",
    "else:\n",
    "    print(f\"{num} is Not a Prime number.\")"
   ]
  },
  {
   "cell_type": "code",
   "execution_count": 31,
   "id": "6b33c7da-80d1-456d-96e4-4f4061b54a57",
   "metadata": {},
   "outputs": [
    {
     "name": "stdin",
     "output_type": "stream",
     "text": [
      "Enter a number or string:  madam\n"
     ]
    },
    {
     "name": "stdout",
     "output_type": "stream",
     "text": [
      "madam is a Palindrome.\n"
     ]
    }
   ],
   "source": [
    "#program 10:program to palindrome or not\n",
    "def is_palindrome(value):\n",
    "    value = str(value)  \n",
    "    return value == value[::-1]  \n",
    "user_input = input(\"Enter a number or string: \")\n",
    "if is_palindrome(user_input):\n",
    "    print(f\"{user_input} is a Palindrome.\")\n",
    "else:\n",
    "    print(f\"{user_input} is Not a Palindrome.\")"
   ]
  },
  {
   "cell_type": "code",
   "execution_count": 33,
   "id": "c1976f62-e40f-4053-a0f9-d2e88451ef73",
   "metadata": {},
   "outputs": [
    {
     "name": "stdin",
     "output_type": "stream",
     "text": [
      "Enter a number:  12\n"
     ]
    },
    {
     "name": "stdout",
     "output_type": "stream",
     "text": [
      "12 is Even.\n"
     ]
    }
   ],
   "source": [
    "#program 11: program to check wether number is EVEN or ODD using switch\n",
    "def check_even_odd(num):\n",
    "    switch = {\n",
    "        0: \"Even\", \n",
    "        1: \"Odd\" \n",
    "    }\n",
    "    return switch[num % 2]  \n",
    "num = int(input(\"Enter a number: \"))\n",
    "print(f\"{num} is {check_even_odd(num)}.\")\n"
   ]
  },
  {
   "cell_type": "code",
   "execution_count": 35,
   "id": "c7482fcc-4caf-4014-8e42-164b2c3b8686",
   "metadata": {},
   "outputs": [
    {
     "name": "stdin",
     "output_type": "stream",
     "text": [
      "Enter M or F:  M\n"
     ]
    },
    {
     "name": "stdout",
     "output_type": "stream",
     "text": [
      "Gender: Male\n"
     ]
    }
   ],
   "source": [
    "#program 2:gender (Male/Female) program according to given M/F using switch\n",
    "def get_gender(gender):\n",
    "    switch = {\n",
    "        'M': \"Male\",\n",
    "        'F': \"Female\"\n",
    "    }\n",
    "    return switch.get(gender.upper(), \"Invalid input\")  \n",
    "gender = input(\"Enter M or F: \")\n",
    "print(f\"Gender: {get_gender(gender)}\")"
   ]
  },
  {
   "cell_type": "code",
   "execution_count": null,
   "id": "f7b5db2b-15d1-4bad-b51a-322796b727e5",
   "metadata": {},
   "outputs": [],
   "source": []
  }
 ],
 "metadata": {
  "kernelspec": {
   "display_name": "Python 3 (ipykernel)",
   "language": "python",
   "name": "python3"
  },
  "language_info": {
   "codemirror_mode": {
    "name": "ipython",
    "version": 3
   },
   "file_extension": ".py",
   "mimetype": "text/x-python",
   "name": "python",
   "nbconvert_exporter": "python",
   "pygments_lexer": "ipython3",
   "version": "3.12.4"
  }
 },
 "nbformat": 4,
 "nbformat_minor": 5
}
