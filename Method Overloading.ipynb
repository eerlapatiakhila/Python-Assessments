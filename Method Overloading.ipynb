{
 "cells": [
  {
   "cell_type": "code",
   "execution_count": 5,
   "id": "8f6868d9-c769-4d7d-ae3e-eafa32d142d0",
   "metadata": {},
   "outputs": [
    {
     "name": "stdout",
     "output_type": "stream",
     "text": [
      "Message with one parameter: Hello\n",
      "Message with two parameters: Hello and World\n"
     ]
    }
   ],
   "source": [
    "class MyClass:\n",
    "    \n",
    "    def print_message(self, *args):\n",
    "        if len(args) == 1:\n",
    "            print(f\"Message with one parameter: {args[0]}\")\n",
    "        elif len(args) == 2:\n",
    "            print(f\"Message with two parameters: {args[0]} and {args[1]}\")\n",
    "        else:\n",
    "            print(\"Unsupported number of parameters\")\n",
    "\n",
    "\n",
    "obj = MyClass()\n",
    "\n",
    "\n",
    "obj.print_message(\"Hello\")          \n",
    "obj.print_message(\"Hello\", \"World\")  \n"
   ]
  },
  {
   "cell_type": "code",
   "execution_count": 11,
   "id": "c84c3607-8c0c-41a1-98fe-24b7d565fa5a",
   "metadata": {},
   "outputs": [
    {
     "name": "stdout",
     "output_type": "stream",
     "text": [
      "Message with one string parameter: Hello\n",
      "Message with one integer parameter: 10\n",
      "Message with two string parameters: Chandra and Rekha\n",
      "Message with two integer parameters: 10 and 20\n"
     ]
    }
   ],
   "source": [
    "def print_message(*args):\n",
    "    if len(args) == 1:\n",
    "        if isinstance(args[0], str):\n",
    "            print(f\"Message with one string parameter: {args[0]}\")\n",
    "        elif isinstance(args[0], int):\n",
    "            print(f\"Message with one integer parameter: {args[0]}\")\n",
    "    elif len(args) == 2:\n",
    "        if isinstance(args[0], str) and isinstance(args[1], str):\n",
    "            print(f\"Message with two string parameters: {args[0]} and {args[1]}\")\n",
    "        elif isinstance(args[0], int) and isinstance(args[1], int):\n",
    "            print(f\"Message with two integer parameters: {args[0]} and {args[1]}\")\n",
    "    else:\n",
    "        print(\"Unsupported number or type of parameters\")\n",
    "\n",
    "\n",
    "print_message(\"Hello\")            \n",
    "print_message(10)                 \n",
    "print_message(\"Chandra\", \"Rekha\")   \n",
    "print_message(10, 20)             \n"
   ]
  },
  {
   "cell_type": "code",
   "execution_count": 13,
   "id": "3f2e73cc-0456-49bb-ba5a-e1abe54d3914",
   "metadata": {},
   "outputs": [
    {
     "name": "stdout",
     "output_type": "stream",
     "text": [
      "REKHA\n",
      "REKHA\n",
      "REKHA\n",
      "REKHA\n"
     ]
    }
   ],
   "source": [
    "def print_message(msg, repeat=1):\n",
    "    for _ in range(repeat):\n",
    "        print(msg)\n",
    "\n",
    "print_message(\"REKHA\")  \n",
    "\n",
    "\n",
    "print_message(\"REKHA\", 3) \n"
   ]
  },
  {
   "cell_type": "code",
   "execution_count": null,
   "id": "6622676a-8e17-4de2-abdc-4611069c0c87",
   "metadata": {},
   "outputs": [],
   "source": []
  }
 ],
 "metadata": {
  "kernelspec": {
   "display_name": "Python 3 (ipykernel)",
   "language": "python",
   "name": "python3"
  },
  "language_info": {
   "codemirror_mode": {
    "name": "ipython",
    "version": 3
   },
   "file_extension": ".py",
   "mimetype": "text/x-python",
   "name": "python",
   "nbconvert_exporter": "python",
   "pygments_lexer": "ipython3",
   "version": "3.12.4"
  }
 },
 "nbformat": 4,
 "nbformat_minor": 5
}
