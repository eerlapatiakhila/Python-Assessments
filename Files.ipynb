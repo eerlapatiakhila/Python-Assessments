{
 "cells": [
  {
   "cell_type": "code",
   "execution_count": 11,
   "id": "0cd9c490-7da9-4bd4-826f-090e6e844ac8",
   "metadata": {},
   "outputs": [
    {
     "name": "stdout",
     "output_type": "stream",
     "text": [
      "File Content:\n",
      "Apple Inc. is one of the world's most valuable and influential technology companies. Known for its innovative products and design philosophy, Apple has significantly shaped the personal computing, consumer electronics, and entertainment industries\n"
     ]
    }
   ],
   "source": [
    "#Files\n",
    "#program-1 Write a program to read text file \n",
    "import os\n",
    "def read_file_manual(filename):\n",
    "    \n",
    "    fd = os.open(filename, os.O_RDONLY)\n",
    "    \n",
    "    content = \"\"\n",
    "    while True:\n",
    "        buffer = os.read(fd, 1024)  \n",
    "        if not buffer:\n",
    "            break  \n",
    "        content += buffer.decode(\"utf-8\")  # Convert bytes to string\n",
    "    \n",
    "    os.close(fd) \n",
    "    return content\n",
    "filename = \"Apple.txt\"  # Ensure this file exists in the same directory\n",
    "file_content = read_file_manual(filename)\n",
    "print(\"File Content:\")\n",
    "print(file_content)"
   ]
  },
  {
   "cell_type": "code",
   "execution_count": 13,
   "id": "b2a4fc7c-8af6-44f2-a811-118a9a65f601",
   "metadata": {},
   "outputs": [
    {
     "name": "stdout",
     "output_type": "stream",
     "text": [
      "Text written to output.txt\n"
     ]
    }
   ],
   "source": [
    "#program-2\n",
    "#Write a program to write text to .txt file using  InputStream\n",
    "def write_file_manual(filename, text):\n",
    "    fd = open(filename, \"w\")  # Open file for writing\n",
    "    try:\n",
    "        for char in text:\n",
    "            fd.write(char)  # Write character by character\n",
    "    finally:\n",
    "        fd.close()  # Ensure file is closed\n",
    "\n",
    "# Example usage\n",
    "filename = \"output.txt\"\n",
    "text_to_write = \"Hello, this is a manually written file!\"\n",
    "write_file_manual(filename, text_to_write)\n",
    "print(\"Text written to\", filename)\n"
   ]
  },
  {
   "cell_type": "code",
   "execution_count": 15,
   "id": "ffbcc68e-f4c8-40ba-80b7-ed921968d2fb",
   "metadata": {},
   "outputs": [
    {
     "name": "stdout",
     "output_type": "stream",
     "text": [
      "Apple Inc. is one of the world's most valuable and influential technology companies. Known for its innovative products and design philosophy, Apple has significantly shaped the personal computing, consumer electronics, and entertainment industries"
     ]
    }
   ],
   "source": [
    "#program-3\n",
    "#Write a program to read a file stream \n",
    "def read_file_stream(filename):\n",
    "    with open(filename, \"r\", encoding=\"utf-8\") as file:  # Specify UTF-8 encoding\n",
    "        for line in file:\n",
    "            print(line, end=\"\")  # Print each line as it is read\n",
    "\n",
    "# Example usage\n",
    "filename = \"Apple.txt\"  # Ensure this file exists\n",
    "read_file_stream(filename)\n"
   ]
  },
  {
   "cell_type": "code",
   "execution_count": 17,
   "id": "f3fde7a4-a5e2-4856-b643-26edb2ef6b48",
   "metadata": {},
   "outputs": [
    {
     "name": "stdout",
     "output_type": "stream",
     "text": [
      " is one of the world's most valuable and influential technology companies. Known for its innovative products and design philosophy, Apple has significantly shaped the personal computing, consumer electronics, and entertainment industries\n"
     ]
    }
   ],
   "source": [
    "#program-4\n",
    "#Write a program to read a file stream supports random access \n",
    "def read_file_random_access(filename, position):\n",
    "    with open(filename, \"r\", encoding=\"utf-8\") as file:\n",
    "        file.seek(position)  \n",
    "        print(file.readline())  \n",
    "\n",
    "# Example usage\n",
    "filename = \"Apple.txt\"  \n",
    "position = 10  \n",
    "read_file_random_access(filename, position)\n"
   ]
  },
  {
   "cell_type": "code",
   "execution_count": 19,
   "id": "46edb3b8-18be-45ea-896d-ed1917ae3812",
   "metadata": {},
   "outputs": [
    {
     "name": "stdout",
     "output_type": "stream",
     "text": [
      " \n"
     ]
    }
   ],
   "source": [
    "#program-5\n",
    "#Write a program to read a file a just to a particular index using seek()\n",
    "def read_file_at_index(filename, index):\n",
    "    with open(filename, \"r\", encoding=\"utf-8\") as file:\n",
    "        file.seek(index)  \n",
    "        print(file.read(1))  \n",
    "\n",
    "# Example usage\n",
    "filename = \"Apple.txt\"  \n",
    "index = 10  \n",
    "read_file_at_index(filename, index)\n"
   ]
  },
  {
   "cell_type": "code",
   "execution_count": 21,
   "id": "5e594570-65fa-4f8e-948d-fe3af35b58c4",
   "metadata": {},
   "outputs": [
    {
     "name": "stdout",
     "output_type": "stream",
     "text": [
      "Apple.txt has read access.\n",
      "Apple.txt has write access.\n"
     ]
    }
   ],
   "source": [
    "#program-6\n",
    "#Write a program to check whether a file is having read access and write access permissions\n",
    "def check_file_permissions(filename):\n",
    "    try:\n",
    "        \n",
    "        file = open(filename, \"r\")\n",
    "        file.close()\n",
    "        print(f\"{filename} has read access.\")\n",
    "    except:\n",
    "        print(f\"{filename} does not have read access.\")\n",
    "    \n",
    "    try:\n",
    "        file = open(filename, \"a\")\n",
    "        file.close()\n",
    "        print(f\"{filename} has write access.\")\n",
    "    except:\n",
    "        print(f\"{filename} does not have write access.\")\n",
    "filename = \"Apple.txt\"  \n",
    "check_file_permissions(filename)\n"
   ]
  },
  {
   "cell_type": "code",
   "execution_count": null,
   "id": "324df3ed-2c07-4f4b-b74e-26664b97cb6b",
   "metadata": {},
   "outputs": [],
   "source": []
  }
 ],
 "metadata": {
  "kernelspec": {
   "display_name": "Python 3 (ipykernel)",
   "language": "python",
   "name": "python3"
  },
  "language_info": {
   "codemirror_mode": {
    "name": "ipython",
    "version": 3
   },
   "file_extension": ".py",
   "mimetype": "text/x-python",
   "name": "python",
   "nbconvert_exporter": "python",
   "pygments_lexer": "ipython3",
   "version": "3.12.4"
  }
 },
 "nbformat": 4,
 "nbformat_minor": 5
}
