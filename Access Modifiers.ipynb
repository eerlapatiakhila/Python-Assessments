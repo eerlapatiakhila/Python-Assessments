{
 "cells": [
  {
   "cell_type": "code",
   "execution_count": 1,
   "id": "d962f9e4",
   "metadata": {},
   "outputs": [
    {
     "name": "stdout",
     "output_type": "stream",
     "text": [
      "Accessing private fields inside the class:\n",
      "Name: Sravani, Age: 20\n",
      "Trying to access private fields:\n",
      "Cannot access private fields directly!\n",
      "Cannot access private methods directly!\n"
     ]
    }
   ],
   "source": [
    "#Access Modifiers\n",
    "#program-1: access the private fields and methods from sub class.\n",
    "class Parent:\n",
    "    def __init__(self):\n",
    "        self.__name = \"Sravani\" \n",
    "        self.__age = 20 \n",
    "\n",
    "    def __display_info(self): \n",
    "        print(f\"Name: {self.__name}, Age: {self.__age}\")\n",
    "\n",
    "    def show_info(self):  \n",
    "        self.__display_info()\n",
    "\n",
    "if __name__ == \"__main__\":\n",
    "    obj = Parent()\n",
    "    \n",
    "    print(\"Accessing private fields inside the class:\")\n",
    "    obj.show_info()  \n",
    "\n",
    "\n",
    "class Child(Parent):\n",
    "    def try_access_private_fields(self):\n",
    "      \n",
    "        try:\n",
    "            print(\"Trying to access private fields:\")\n",
    "            print(self.__name) \n",
    "        except AttributeError:\n",
    "            print(\"Cannot access private fields directly!\")\n",
    "\n",
    "        try:\n",
    "            self.__display_info()  \n",
    "        except AttributeError: \n",
    "            print(\"Cannot access private methods directly!\")\n",
    "\n",
    "child = Child()\n",
    "child.try_access_private_fields() "
   ]
  },
  {
   "cell_type": "code",
   "execution_count": 2,
   "id": "37cd25e1",
   "metadata": {},
   "outputs": [
    {
     "name": "stdout",
     "output_type": "stream",
     "text": [
      "Accessing protected fields from the same module:\n",
      "Sravani\n",
      "Name: Sravani, Age: 20\n"
     ]
    }
   ],
   "source": [
    "#program-2:Access the PROTECTED fields and methods from any class in different package\n",
    "class Parent:\n",
    "    def __init__(self):\n",
    "        self._name = \"Sravani\" \n",
    "        self._age = 20\n",
    "\n",
    "    def _display_info(self):  \n",
    "        print(f\"Name: {self._name}, Age: {self._age}\")\n",
    "\n",
    "\n",
    "if __name__ == \"__main__\":\n",
    "    obj = Parent()\n",
    "    print(\"Accessing protected fields from the same module:\")\n",
    "    print(obj._name) \n",
    "    obj._display_info() \n",
    "\n"
   ]
  },
  {
   "cell_type": "code",
   "execution_count": 3,
   "id": "8b38bfa1",
   "metadata": {},
   "outputs": [
    {
     "name": "stdout",
     "output_type": "stream",
     "text": [
      "Accessing public fields from the same module:\n",
      "Sravani\n",
      "Name: Sravani, Age: 20\n"
     ]
    }
   ],
   "source": [
    "#program-3:Access the public methods and fields from any class in the same package or different package\n",
    "class Parent:\n",
    "    def __init__(self):\n",
    "        self.name = \"Sravani\"\n",
    "        self.age = 20\n",
    "\n",
    "    def display_info(self): \n",
    "        print(f\"Name: {self.name}, Age: {self.age}\")\n",
    "\n",
    "if __name__ == \"__main__\":\n",
    "    obj = Parent()\n",
    "    print(\"Accessing public fields from the same module:\")\n",
    "    print(obj.name) \n",
    "    obj.display_info() "
   ]
  },
  {
   "cell_type": "code",
   "execution_count": null,
   "id": "0b690c55",
   "metadata": {},
   "outputs": [],
   "source": []
  }
 ],
 "metadata": {
  "kernelspec": {
   "display_name": "Python 3 (ipykernel)",
   "language": "python",
   "name": "python3"
  },
  "language_info": {
   "codemirror_mode": {
    "name": "ipython",
    "version": 3
   },
   "file_extension": ".py",
   "mimetype": "text/x-python",
   "name": "python",
   "nbconvert_exporter": "python",
   "pygments_lexer": "ipython3",
   "version": "3.9.13"
  }
 },
 "nbformat": 4,
 "nbformat_minor": 5
}
