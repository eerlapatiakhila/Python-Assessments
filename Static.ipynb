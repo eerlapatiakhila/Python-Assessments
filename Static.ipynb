{
 "cells": [
  {
   "cell_type": "code",
   "execution_count": 15,
   "id": "a79197c1-adb1-4cef-a8ab-f679110c3824",
   "metadata": {},
   "outputs": [
    {
     "name": "stdout",
     "output_type": "stream",
     "text": [
      "Static Variable accessed through class: 20\n",
      "Static Variable accessed through instance: 20\n",
      "Name: Akhila, Static Variable: 20\n"
     ]
    }
   ],
   "source": [
    "#program 1:Define a static variable and access that through a class  \n",
    "class MyClass:\n",
    "    # Define a static (class) variable\n",
    "    static_variable = 20\n",
    "\n",
    "    def __init__(self, name):\n",
    "        self.name = name\n",
    "\n",
    "    def display(self):\n",
    "        print(f\"Name: {self.name}, Static Variable: {MyClass.static_variable}\")\n",
    "print(f\"Static Variable accessed through class: {MyClass.static_variable}\")\n",
    "obj = MyClass(\"Akhila\")\n",
    "print(f\"Static Variable accessed through instance: {obj.static_variable}\")\n",
    "obj.display()\n"
   ]
  },
  {
   "cell_type": "code",
   "execution_count": 23,
   "id": "beb3f86c-9042-46c8-83a7-2e0eb1c5b05c",
   "metadata": {},
   "outputs": [
    {
     "name": "stdout",
     "output_type": "stream",
     "text": [
      "Static Variable accessed through instance: 20\n",
      "Name: Akhila, Static Variable: 20\n"
     ]
    }
   ],
   "source": [
    "#program 2:Define a static variable and access that through a instance\n",
    "class MyClass:\n",
    "    # Define a static (class) variable\n",
    "    static_variable = 20\n",
    "\n",
    "    def __init__(self, name):\n",
    "        self.name = name\n",
    "\n",
    "    def display(self):\n",
    "        print(f\"Name: {self.name}, Static Variable: {self.static_variable}\")\n",
    "obj = MyClass(\"Akhila\")\n",
    "print(f\"Static Variable accessed through instance: {obj.static_variable}\")\n",
    "obj.display()\n",
    "\n"
   ]
  },
  {
   "cell_type": "code",
   "execution_count": 29,
   "id": "c28e71fd-a9f4-4fab-acf2-16f0007f2775",
   "metadata": {},
   "outputs": [
    {
     "name": "stdout",
     "output_type": "stream",
     "text": [
      "Initial Static Variable accessed through obj1: 20\n",
      "Static variable updated to: 100\n",
      "Static Variable accessed through obj2: 100\n",
      "Name: Akhila, Static Variable: 100\n",
      "Name: Tiana, Static Variable: 100\n"
     ]
    }
   ],
   "source": [
    "#program 3 :Define a static variable and access that through a instance\n",
    "class MyClass:\n",
    "    # Define a static (class) variable\n",
    "    static_variable = 20\n",
    "\n",
    "    def __init__(self, name):\n",
    "        self.name = name\n",
    "\n",
    "    def change_static_variable(self, new_value):\n",
    "        # Modify the static variable using the instance\n",
    "        MyClass.static_variable = new_value\n",
    "        print(f\"Static variable updated to: {MyClass.static_variable}\")\n",
    "\n",
    "    def display(self):\n",
    "        print(f\"Name: {self.name}, Static Variable: {MyClass.static_variable}\")\n",
    "obj1 = MyClass(\"Akhila\")\n",
    "print(f\"Initial Static Variable accessed through obj1: {obj1.static_variable}\")\n",
    "obj1.change_static_variable(100)\n",
    "obj2 = MyClass(\"Tiana\")\n",
    "print(f\"Static Variable accessed through obj2: {obj2.static_variable}\")\n",
    "obj1.display()\n",
    "obj2.display()"
   ]
  },
  {
   "cell_type": "code",
   "execution_count": 33,
   "id": "2fceb402-b9c4-440d-9d94-99d48f6fd778",
   "metadata": {},
   "outputs": [
    {
     "name": "stdout",
     "output_type": "stream",
     "text": [
      "Static Variable: 20\n",
      "Static variable updated to: 100\n",
      "Static Variable: 100\n",
      "Static Variable: 100\n"
     ]
    }
   ],
   "source": [
    "#program 4:Define a static variable and change within the class\n",
    "class MyClass:\n",
    "    # Define a static (class) variable\n",
    "    static_variable = 20\n",
    "\n",
    "    @classmethod\n",
    "    def change_static_variable(cls, new_value):\n",
    "        cls.static_variable = new_value\n",
    "        print(f\"Static variable updated to: {cls.static_variable}\")\n",
    "\n",
    "    def display(self):\n",
    "        print(f\"Static Variable: {MyClass.static_variable}\")\n",
    "\n",
    "obj1 = MyClass()\n",
    "obj1.display()\n",
    "MyClass.change_static_variable(100)\n",
    "obj2 = MyClass()\n",
    "obj2.display()\n",
    "obj1.display()\n"
   ]
  },
  {
   "cell_type": "code",
   "execution_count": null,
   "id": "66c6445b-554f-4866-b728-efa53813113a",
   "metadata": {},
   "outputs": [],
   "source": []
  }
 ],
 "metadata": {
  "kernelspec": {
   "display_name": "Python 3 (ipykernel)",
   "language": "python",
   "name": "python3"
  },
  "language_info": {
   "codemirror_mode": {
    "name": "ipython",
    "version": 3
   },
   "file_extension": ".py",
   "mimetype": "text/x-python",
   "name": "python",
   "nbconvert_exporter": "python",
   "pygments_lexer": "ipython3",
   "version": "3.12.4"
  }
 },
 "nbformat": 4,
 "nbformat_minor": 5
}
