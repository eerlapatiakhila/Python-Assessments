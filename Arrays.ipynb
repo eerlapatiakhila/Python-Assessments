{
 "cells": [
  {
   "cell_type": "code",
   "execution_count": 1,
   "id": "5d628d08-50f2-4e55-9d3a-2d25bc2aad1c",
   "metadata": {},
   "outputs": [
    {
     "name": "stdin",
     "output_type": "stream",
     "text": [
      "Enter numbers separated by spaces:  5 4 3 2 1\n"
     ]
    },
    {
     "name": "stdout",
     "output_type": "stream",
     "text": [
      "The sum of the array is: 15\n"
     ]
    }
   ],
   "source": [
    "#program 1:def sum_of_array(arr):\n",
    "def sum_of_array(arr):\n",
    "    return sum(arr)\n",
    "arr_input = input(\"Enter numbers separated by spaces: \")\n",
    "arr = list(map(int, arr_input.split()))\n",
    "result = sum_of_array(arr)\n",
    "print(f\"The sum of the array is: {result}\")"
   ]
  },
  {
   "cell_type": "code",
   "execution_count": 5,
   "id": "6d3e46a4-58b3-4bcb-ab6a-af30a8820b80",
   "metadata": {},
   "outputs": [
    {
     "name": "stdin",
     "output_type": "stream",
     "text": [
      "Enter numbers separated by spaces:  1 2 3 4 5 \n"
     ]
    },
    {
     "name": "stdout",
     "output_type": "stream",
     "text": [
      "The average of the array is: 3.0\n"
     ]
    }
   ],
   "source": [
    "#program 2 :a function to calculate the average value of an array of integers \n",
    "def average_of_array(arr):\n",
    "    if len(arr) == 0:\n",
    "        return None\n",
    "    return sum(arr) / len(arr)\n",
    "arr_input = input(\"Enter numbers separated by spaces: \")\n",
    "arr = list(map(int, arr_input.split()))\n",
    "result = average_of_array(arr)\n",
    "if result is not None:\n",
    "    print(f\"The average of the array is: {result}\")\n",
    "else:\n",
    "    print(\"The array is empty, so the average cannot be calculated.\")\n",
    "\n"
   ]
  },
  {
   "cell_type": "code",
   "execution_count": 19,
   "id": "38e80015-9d53-4823-b825-b1ad739cad9d",
   "metadata": {},
   "outputs": [
    {
     "name": "stdin",
     "output_type": "stream",
     "text": [
      "Enter the number to find:  30\n"
     ]
    },
    {
     "name": "stdout",
     "output_type": "stream",
     "text": [
      "Element 30 found at index 2.\n"
     ]
    }
   ],
   "source": [
    "# program 3 :programdef find_index(arr, target):\n",
    "def find_index(arr, target):\n",
    "    if target in arr:\n",
    "        return arr.index(target) \n",
    "        \n",
    "        return -1\n",
    "\n",
    "\n",
    "numbers = [10, 20, 30, 40, 50]\n",
    "target_element = int(input(\"Enter the number to find: \"))\n",
    "\n",
    "index = find_index(numbers, target_element)\n",
    "\n",
    "if index != -1:\n",
    "    print(f\"Element {target_element} found at index {index}.\")\n",
    "else:\n",
    "    print(f\"Element {target_element} not found in the array.\")\n"
   ]
  },
  {
   "cell_type": "code",
   "execution_count": 27,
   "id": "ec9f5f97-d379-47ca-aafb-00cfb851fc7d",
   "metadata": {},
   "outputs": [
    {
     "name": "stdin",
     "output_type": "stream",
     "text": [
      "Enter the element to insert:  50\n",
      "Enter the position (index) to insert at:  0\n"
     ]
    },
    {
     "name": "stdout",
     "output_type": "stream",
     "text": [
      "Updated Array: [50, 10, 20, 30, 40, 50]\n"
     ]
    }
   ],
   "source": [
    "#program 4:Write a function to test if array contains a specific value \n",
    "def insert_element(arr, element, position):\n",
    "    if position < 0 or position > len(arr):\n",
    "        print(\"Invalid position!\")\n",
    "        return arr  \n",
    "    \n",
    "    arr.insert(position, element)  \n",
    "    return arr\n",
    "\n",
    "arr = [10, 20, 30, 40, 50]\n",
    "element = int(input(\"Enter the element to insert: \"))\n",
    "position = int(input(\"Enter the position (index) to insert at: \")\n",
    "updated_arr = insert_element(arr, element, position)\n",
    "print(\"Updated Array:\", updated_arr)"
   ]
  },
  {
   "cell_type": "code",
   "execution_count": 29,
   "id": "f65da4f9-5bc3-4b9c-852f-4906e5ebf75d",
   "metadata": {},
   "outputs": [
    {
     "name": "stdin",
     "output_type": "stream",
     "text": [
      "Enter numbers separated by spaces:  10 20 30 40 50\n",
      "Enter the element to remove:  10\n"
     ]
    },
    {
     "name": "stdout",
     "output_type": "stream",
     "text": [
      "Updated array: [20, 30, 40, 50]\n"
     ]
    }
   ],
   "source": [
    "#program 5:Write a function to remove a specific element from an array \n",
    "def remove_element(arr, element):\n",
    "    \n",
    "    if element in arr:\n",
    "        arr.remove(element)  \n",
    "        return arr\n",
    "    else:\n",
    "        return f\"Element {element} not found in the array.\"\n",
    "arr_input = input(\"Enter numbers separated by spaces: \")\n",
    "arr = list(map(int, arr_input.split()))\n",
    "element_to_remove = int(input(\"Enter the element to remove: \"))\n",
    "\n",
    "result = remove_element(arr, element_to_remove)\n",
    "print(f\"Updated array: {result}\")\n"
   ]
  },
  {
   "cell_type": "code",
   "execution_count": 31,
   "id": "17788868-d376-4cbe-8c89-18fccdfaffe5",
   "metadata": {},
   "outputs": [
    {
     "name": "stdin",
     "output_type": "stream",
     "text": [
      "Enter numbers separated by spaces:  1 2 3 4 5\n"
     ]
    },
    {
     "name": "stdout",
     "output_type": "stream",
     "text": [
      "Original array: [1, 2, 3, 4, 5]\n",
      "Copied array: [1, 2, 3, 4, 5]\n"
     ]
    }
   ],
   "source": [
    "#program 6:Write a function to copy an array to another array \n",
    "def copy_array(arr):\n",
    "    new_arr = arr[:]\n",
    "    return new_arr\n",
    "arr_input = input(\"Enter numbers separated by spaces: \")\n",
    "arr = list(map(int, arr_input.split()))\n",
    "\n",
    "copied_array = copy_array(arr)\n",
    "print(f\"Original array: {arr}\")\n",
    "print(f\"Copied array: {copied_array}\")"
   ]
  },
  {
   "cell_type": "code",
   "execution_count": 33,
   "id": "aad01c3f-e00d-41c5-8189-44a2380f6d27",
   "metadata": {},
   "outputs": [
    {
     "name": "stdin",
     "output_type": "stream",
     "text": [
      "Enter numbers separated by spaces:  1 2 3 4 5\n",
      "Enter the element to insert:  6 \n",
      "Enter the position to insert the element at:  5\n"
     ]
    },
    {
     "name": "stdout",
     "output_type": "stream",
     "text": [
      "Updated array: [1, 2, 3, 4, 5, 6]\n"
     ]
    }
   ],
   "source": [
    "#program 7:\tWrite a function to insert an element at a specific position in the array \n",
    "def insert_element(arr, element, position):\n",
    "    # Check if the position is valid\n",
    "    if position < 0 or position > len(arr):\n",
    "        return \"Invalid position\"\n",
    "    arr.insert(position, element)\n",
    "    return arr\n",
    "arr_input = input(\"Enter numbers separated by spaces: \")\n",
    "arr = list(map(int, arr_input.split()))\n",
    "element_to_insert = int(input(\"Enter the element to insert: \"))\n",
    "position_to_insert = int(input(\"Enter the position to insert the element at: \"))\n",
    "\n",
    "result = insert_element(arr, element_to_insert, position_to_insert)\n",
    "print(f\"Updated array: {result}\")"
   ]
  },
  {
   "cell_type": "code",
   "execution_count": 35,
   "id": "7a445caa-b860-49e8-bb58-4ea93830d2cd",
   "metadata": {},
   "outputs": [
    {
     "name": "stdin",
     "output_type": "stream",
     "text": [
      "Enter numbers separated by spaces:  1 2 3 4 5\n"
     ]
    },
    {
     "name": "stdout",
     "output_type": "stream",
     "text": [
      "The minimum value is: 1\n",
      "The maximum value is: 5\n"
     ]
    }
   ],
   "source": [
    "#program 8:Write a function to find the minimum and maximum value of an array \n",
    "def find_min_max(arr):\n",
    "    if len(arr) == 0:\n",
    "        return \"Array is empty, no minimum or maximum value.\"\n",
    "    \n",
    "    min_value = min(arr)  \n",
    "    max_value = max(arr)  \n",
    "    \n",
    "    return min_value, max_value\n",
    "\n",
    "arr_input = input(\"Enter numbers separated by spaces: \")\n",
    "arr = list(map(int, arr_input.split()))\n",
    "\n",
    "min_value, max_value = find_min_max(arr)\n",
    "\n",
    "if isinstance(min_value, str):  \n",
    "    print(min_value)\n",
    "else:\n",
    "    print(f\"The minimum value is: {min_value}\")\n",
    "    print(f\"The maximum value is: {max_value}\")\n"
   ]
  },
  {
   "cell_type": "code",
   "execution_count": 37,
   "id": "1611ff65-9586-4bb4-af9d-88156df691d3",
   "metadata": {},
   "outputs": [
    {
     "name": "stdin",
     "output_type": "stream",
     "text": [
      "Enter numbers separated by spaces:  1 2 3 4 5\n"
     ]
    },
    {
     "name": "stdout",
     "output_type": "stream",
     "text": [
      "The reversed array is: [5, 4, 3, 2, 1]\n"
     ]
    }
   ],
   "source": [
    "#program 9 :Write a function to reverse an array of integer values \n",
    "def reverse_array(arr):\n",
    "    # Reverse the array using slicing\n",
    "    return arr[::-1]\n",
    "arr_input = input(\"Enter numbers separated by spaces: \")\n",
    "arr = list(map(int, arr_input.split()))\n",
    "reversed_arr = reverse_array(arr)\n",
    "print(f\"The reversed array is: {reversed_arr}\")"
   ]
  },
  {
   "cell_type": "code",
   "execution_count": 41,
   "id": "fd74131b-9fa0-419e-bd34-e4056052f12a",
   "metadata": {},
   "outputs": [
    {
     "name": "stdin",
     "output_type": "stream",
     "text": [
      "Enter numbers separated by spaces:  1 2 3 4 4\n"
     ]
    },
    {
     "name": "stdout",
     "output_type": "stream",
     "text": [
      "Duplicate values: [4]\n"
     ]
    }
   ],
   "source": [
    "#program 10 :Write a function to find the duplicate values of an array \n",
    "def find_duplicates(arr):\n",
    "    seen = set()\n",
    "    duplicates = set()\n",
    "\n",
    "    for num in arr:\n",
    "        if num in seen:\n",
    "            duplicates.add(num)\n",
    "        else:\n",
    "            seen.add(num)\n",
    "\n",
    "    return list(duplicates)\n",
    "\n",
    "arr_input = input(\"Enter numbers separated by spaces: \")\n",
    "arr = list(map(int, arr_input.split()))\n",
    "\n",
    "duplicates = find_duplicates(arr)\n",
    "if duplicates:\n",
    "    print(f\"Duplicate values: {duplicates}\")\n",
    "else:\n",
    "    print(\"No duplicates found.\")\n",
    "\n"
   ]
  },
  {
   "cell_type": "code",
   "execution_count": 43,
   "id": "ca94efe9-311e-4403-8440-d6c169535281",
   "metadata": {},
   "outputs": [
    {
     "name": "stdin",
     "output_type": "stream",
     "text": [
      "Enter the first array (numbers separated by spaces):  1 2 3 4 5 \n",
      "Enter the second array (numbers separated by spaces):  3 4 5 6 7\n"
     ]
    },
    {
     "name": "stdout",
     "output_type": "stream",
     "text": [
      "Common values between the arrays: [3, 4, 5]\n"
     ]
    }
   ],
   "source": [
    "#program 11:Write a program to find the common values between two arrays \n",
    "def find_common_values(arr1, arr2):\n",
    "   \n",
    "    common_values = set(arr1) & set(arr2)\n",
    "    return list(common_values)\n",
    "\n",
    "arr1_input = input(\"Enter the first array \")\n",
    "arr1 = list(map(int, arr1_input.split()))\n",
    "\n",
    "arr2_input = input(\"Enter the second array  \")\n",
    "arr2 = list(map(int, arr2_input.split()))\n",
    "\n",
    "common_values = find_common_values(arr1, arr2)\n",
    "\n",
    "if common_values:\n",
    "    print(f\"Common values between the arrays: {common_values}\")\n",
    "else:\n",
    "    print(\"No common values found between the arrays.\")"
   ]
  },
  {
   "cell_type": "code",
   "execution_count": 45,
   "id": "4f2190b8-ad29-444e-9bc0-736e16d8ee24",
   "metadata": {},
   "outputs": [
    {
     "name": "stdin",
     "output_type": "stream",
     "text": [
      "Enter numbers separated by spaces:  1 2 3 4 4\n"
     ]
    },
    {
     "name": "stdout",
     "output_type": "stream",
     "text": [
      "Array after removing duplicates: [1, 2, 3, 4]\n"
     ]
    }
   ],
   "source": [
    "#program 12 :Write a method to remove duplicate elements from an array \n",
    "def remove_duplicates(arr):\n",
    "    \n",
    "    return list(set(arr))\n",
    "arr_input = input(\"Enter numbers separated by spaces: \")\n",
    "arr = list(map(int, arr_input.split()))\n",
    "\n",
    "result = remove_duplicates(arr)\n",
    "print(f\"Array after removing duplicates: {result}\")\n"
   ]
  },
  {
   "cell_type": "code",
   "execution_count": 47,
   "id": "bff412b6-08ac-4e12-ae48-65c21659ef3f",
   "metadata": {},
   "outputs": [
    {
     "name": "stdin",
     "output_type": "stream",
     "text": [
      "Enter numbers separated by spaces:  1 2 3 4 5 \n"
     ]
    },
    {
     "name": "stdout",
     "output_type": "stream",
     "text": [
      "The second largest number is: 4\n"
     ]
    }
   ],
   "source": [
    "#program 13:Write a method to find the second largest number in an array \n",
    "def second_largest(arr):\n",
    "    if len(arr) < 2:\n",
    "        return \"Array should have at least two elements.\"\n",
    "\n",
    "    largest = second_largest = float('-inf')\n",
    "\n",
    "    for num in arr:\n",
    "        if num > largest:\n",
    "            second_largest = largest\n",
    "            largest = num\n",
    "        elif num > second_largest and num != largest:\n",
    "            second_largest = num\n",
    "    if second_largest == float('-inf'):\n",
    "        return \"There is no second largest number.\"\n",
    "    \n",
    "    return second_largest\n",
    "arr_input = input(\"Enter numbers : \")\n",
    "arr = list(map(int, arr_input.split()))\n",
    "\n",
    "result = second_largest(arr)\n",
    "print(f\"The second largest number is: {result}\")\n"
   ]
  },
  {
   "cell_type": "code",
   "execution_count": 49,
   "id": "6aacf3c8-0033-4fa1-8858-e1e7573aaad0",
   "metadata": {},
   "outputs": [],
   "source": [
    "#program 14:  find the second largest number in an array \n",
    "#same as program 13"
   ]
  },
  {
   "cell_type": "code",
   "execution_count": 51,
   "id": "e8bbdbf2-e4e3-49cf-9e7e-23d7645c8934",
   "metadata": {},
   "outputs": [
    {
     "name": "stdin",
     "output_type": "stream",
     "text": [
      "Enter numbers separated by spaces:  1 2 3 4 5 \n"
     ]
    },
    {
     "name": "stdout",
     "output_type": "stream",
     "text": [
      "Even numbers: 2\n",
      "Odd numbers: 3\n"
     ]
    }
   ],
   "source": [
    "#program 15:  find number of even number and odd numbers in an array \n",
    "def count_even_odd(arr):\n",
    "    even_count = 0\n",
    "    odd_count = 0\n",
    "    for num in arr:\n",
    "        if num % 2 == 0:\n",
    "            even_count += 1\n",
    "        else:\n",
    "            odd_count += 1\n",
    "            \n",
    "    return even_count, odd_count\n",
    "arr_input = input(\"Enter numbers separated by spaces: \")\n",
    "arr = list(map(int, arr_input.split()))\n",
    "even_count, odd_count = count_even_odd(arr)\n",
    "print(f\"Even numbers: {even_count}\")\n",
    "print(f\"Odd numbers: {odd_count}\")"
   ]
  },
  {
   "cell_type": "code",
   "execution_count": 53,
   "id": "0b8c5779-fe7b-4896-b4d0-896cd216d505",
   "metadata": {},
   "outputs": [
    {
     "name": "stdin",
     "output_type": "stream",
     "text": [
      "Enter numbers separated by spaces:  1 2 3 4 5\n"
     ]
    },
    {
     "name": "stdout",
     "output_type": "stream",
     "text": [
      "The difference between the largest and smallest value is: 4\n"
     ]
    }
   ],
   "source": [
    "#program 16 :Write a function to get the difference of largest and smallest value \n",
    "def difference_largest_smallest(arr):\n",
    "    if len(arr) == 0:\n",
    "        return \"Array is empty\"\n",
    "    largest = max(arr)\n",
    "    smallest = min(arr)\n",
    "    return largest - smallest\n",
    "arr_input = input(\"Enter numbers separated by spaces: \")\n",
    "arr = list(map(int, arr_input.split()))\n",
    "\n",
    "difference = difference_largest_smallest(arr)\n",
    "print(f\"The difference between the largest and smallest value is: {difference}\")\n"
   ]
  },
  {
   "cell_type": "code",
   "execution_count": 59,
   "id": "d1b6d2b0-e30d-4316-95df-528d53bba501",
   "metadata": {},
   "outputs": [
    {
     "name": "stdin",
     "output_type": "stream",
     "text": [
      "Enter numbers separated by spaces:  12 23 45 1 5\n"
     ]
    },
    {
     "name": "stdout",
     "output_type": "stream",
     "text": [
      "The array contains both 12 and 23.\n"
     ]
    }
   ],
   "source": [
    "# program 17:Write a method to verify if the array contains two specified elements(12,23) \n",
    "def contains_elements(arr, elem1, elem2):\n",
    "    if elem1 in arr and elem2 in arr:\n",
    "        return True\n",
    "    else:\n",
    "        return False\n",
    "arr_input = input(\"Enter numbers separated by spaces: \")\n",
    "arr = list(map(int, arr_input.split()))\n",
    "elem1 = 12\n",
    "elem2 = 23\n",
    "result = contains_elements(arr, elem1, elem2)\n",
    "if result:\n",
    "    print(f\"The array contains both {elem1} and {elem2}.\")\n",
    "else:\n",
    "    print(f\"The array does not contain both {elem1} and {elem2}.\")\n"
   ]
  },
  {
   "cell_type": "code",
   "execution_count": 63,
   "id": "68b78a79-b1f0-4493-ab5f-32e72b0a401a",
   "metadata": {},
   "outputs": [
    {
     "name": "stdin",
     "output_type": "stream",
     "text": [
      "Enter numbers separated by spaces:  1 2 3 4 5\n"
     ]
    },
    {
     "name": "stdout",
     "output_type": "stream",
     "text": [
      "New array after removing duplicates: [1, 2, 3, 4, 5]\n"
     ]
    }
   ],
   "source": [
    "#program 18:Write a program to remove the duplicate elements and return the new array \n",
    "def remove_duplicates(arr):\n",
    "    return list(set(arr))\n",
    "arr_input = input(\"Enter numbers separated by spaces: \")\n",
    "arr = list(map(int, arr_input.split()))\n",
    "new_arr = remove_duplicates(arr)\n",
    "print(f\"New array after removing duplicates: {new_arr}\")\n"
   ]
  },
  {
   "cell_type": "code",
   "execution_count": null,
   "id": "ad9feb9e-647b-4e5a-be4d-e61dcd93b56c",
   "metadata": {},
   "outputs": [],
   "source": []
  }
 ],
 "metadata": {
  "kernelspec": {
   "display_name": "Python 3 (ipykernel)",
   "language": "python",
   "name": "python3"
  },
  "language_info": {
   "codemirror_mode": {
    "name": "ipython",
    "version": 3
   },
   "file_extension": ".py",
   "mimetype": "text/x-python",
   "name": "python",
   "nbconvert_exporter": "python",
   "pygments_lexer": "ipython3",
   "version": "3.12.4"
  }
 },
 "nbformat": 4,
 "nbformat_minor": 5
}
