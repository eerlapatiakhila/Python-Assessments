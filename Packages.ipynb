{
 "cells": [
  {
   "cell_type": "code",
   "execution_count": 3,
   "id": "c5ef9832-75d4-4fb0-8319-20387631a526",
   "metadata": {},
   "outputs": [
    {
     "name": "stdout",
     "output_type": "stream",
     "text": [
      "Hello from Class One\n",
      "Hello from Class Two\n"
     ]
    }
   ],
   "source": [
    "#packages\n",
    "#programs to create two classes\n",
    "# Define ClassOne without using __init__\n",
    "class ClassOne:\n",
    "    def set_message(self, msg):\n",
    "        self.message = msg  \n",
    "    \n",
    "    def display(self):\n",
    "        for char in self.message:  \n",
    "            write_char(char)\n",
    "        write_char(\"\\n\")\n",
    "class ClassTwo:\n",
    "    def set_message(self, msg):\n",
    "        self.message = msg\n",
    "    \n",
    "    def display(self):\n",
    "        for char in self.message:\n",
    "            write_char(char)\n",
    "        write_char(\"\\n\")\n",
    "\n",
    "\n",
    "def write_char(char):\n",
    "    import sys\n",
    "    sys.stdout.write(char)  \n",
    "    sys.stdout.flush()  \n",
    "\n",
    "# Creating objects manually and setting messages\n",
    "obj1 = ClassOne()\n",
    "obj1.set_message(\"Hello from Class One\")\n",
    "\n",
    "obj2 = ClassTwo()\n",
    "obj2.set_message(\"Hello from Class Two\")\n",
    "obj1.display()\n",
    "obj2.display()"
   ]
  },
  {
   "cell_type": "code",
   "execution_count": null,
   "id": "1956747c-6625-4cb5-b8b4-2d0598b89791",
   "metadata": {},
   "outputs": [],
   "source": []
  }
 ],
 "metadata": {
  "kernelspec": {
   "display_name": "Python 3 (ipykernel)",
   "language": "python",
   "name": "python3"
  },
  "language_info": {
   "codemirror_mode": {
    "name": "ipython",
    "version": 3
   },
   "file_extension": ".py",
   "mimetype": "text/x-python",
   "name": "python",
   "nbconvert_exporter": "python",
   "pygments_lexer": "ipython3",
   "version": "3.12.4"
  }
 },
 "nbformat": 4,
 "nbformat_minor": 5
}
