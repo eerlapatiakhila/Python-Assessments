{
 "cells": [
  {
   "cell_type": "code",
   "execution_count": 1,
   "id": "eb844771-781a-438d-9f59-5d561f912071",
   "metadata": {},
   "outputs": [
    {
     "name": "stdout",
     "output_type": "stream",
     "text": [
      "Akhila\n"
     ]
    }
   ],
   "source": [
    "# Program 1 : print your name\n",
    "print(\"Akhila\")"
   ]
  },
  {
   "cell_type": "code",
   "execution_count": 13,
   "id": "886bedf5-b5eb-44d6-ac6b-9ce9cbd3d7b7",
   "metadata": {},
   "outputs": [
    {
     "name": "stdout",
     "output_type": "stream",
     "text": [
      "comments\n"
     ]
    },
    {
     "data": {
      "text/plain": [
       "'\\nthis is a multi line comment\\nyou can write multiple lines here\\n'"
      ]
     },
     "execution_count": 13,
     "metadata": {},
     "output_type": "execute_result"
    }
   ],
   "source": [
    "#program 2: single line comment and multi line comment\n",
    "\n",
    "\n",
    "print(\"comments\") #This is single line comment\n",
    "\"\"\"\n",
    "this is a multi line comment\n",
    "you can write multiple lines here\n",
    "\"\"\""
   ]
  },
  {
   "cell_type": "code",
   "execution_count": 15,
   "id": "103af0a9-4177-41b0-ace4-7af5181d2a15",
   "metadata": {},
   "outputs": [
    {
     "data": {
      "text/plain": [
       "'\\nThis is a \\nmulti-line comment\\nin\\xa0Python.\\n'"
      ]
     },
     "execution_count": 15,
     "metadata": {},
     "output_type": "execute_result"
    }
   ],
   "source": [
    "# This is a single-line comment\n",
    "\n",
    "\"\"\"\n",
    "This is a \n",
    "multi-line comment\n",
    "in Python.\n",
    "\"\"\""
   ]
  },
  {
   "cell_type": "code",
   "execution_count": 19,
   "id": "2057a99f-fc7e-4d42-875f-05d1ca2ca4ce",
   "metadata": {},
   "outputs": [
    {
     "name": "stdout",
     "output_type": "stream",
     "text": [
      "comments!\n",
      "These are comments in python!\n"
     ]
    }
   ],
   "source": [
    "\n",
    "print(\"comments!\")  # Another single-line comment\n",
    "\n",
    "\"\"\"\n",
    "This section contains a multi-line comment.\n",
    "It can be used to describe multiple lines of code.\n",
    "\"\"\"\n",
    "\n",
    "'''\n",
    "Another example of a multi-line comment.\n",
    "It can also be written using triple single quotes.\n",
    "'''\n",
    "\n",
    "print(\"These are comments in python!\")\n"
   ]
  },
  {
   "cell_type": "code",
   "execution_count": 21,
   "id": "5e8843fd-7946-4698-b847-604e475eccb4",
   "metadata": {},
   "outputs": [
    {
     "name": "stdout",
     "output_type": "stream",
     "text": [
      "Integer value: 50\n",
      "Boolean value: True\n",
      "Char value: A\n",
      "Float value: 3.14\n",
      "Double value: 57.57\n"
     ]
    }
   ],
   "source": [
    "#program 3:variables for different data typ\n",
    "int = 50\n",
    "boolean = True\n",
    "char = 'A'  \n",
    "float = 3.14\n",
    "double = 57.57  \n",
    "print(\"Integer value:\", int)\n",
    "print(\"Boolean value:\", boolean)\n",
    "print(\"Char value:\", char)\n",
    "print(\"Float value:\", float)\n",
    "print(\"Double value:\", double)"
   ]
  },
  {
   "cell_type": "code",
   "execution_count": 23,
   "id": "2cb188e2-52f8-418f-a56e-f1526406492e",
   "metadata": {},
   "outputs": [
    {
     "name": "stdout",
     "output_type": "stream",
     "text": [
      "Local variable x: 20\n",
      "Global variable x: 10\n"
     ]
    }
   ],
   "source": [
    "#program 3:Define the local and Global variables with the same name and print both variables and understand the scope of the variables\n",
    "# Global variable\n",
    "x = 10  \n",
    "def A_function():\n",
    "    # Local variable with the same name\n",
    "    x = 20  \n",
    "    print(\"Local variable x:\", x)  # This will print the local x (inside the function)\n",
    "\n",
    "\n",
    "A_function()\n",
    "\n",
    "# Print the global variable\n",
    "print(\"Global variable x:\", x)  # This will print the global x (outside the function)"
   ]
  },
  {
   "cell_type": "code",
   "execution_count": null,
   "id": "d7be598e-d87e-47aa-887b-7ed29f13395e",
   "metadata": {},
   "outputs": [],
   "source": []
  }
 ],
 "metadata": {
  "kernelspec": {
   "display_name": "Python 3 (ipykernel)",
   "language": "python",
   "name": "python3"
  },
  "language_info": {
   "codemirror_mode": {
    "name": "ipython",
    "version": 3
   },
   "file_extension": ".py",
   "mimetype": "text/x-python",
   "name": "python",
   "nbconvert_exporter": "python",
   "pygments_lexer": "ipython3",
   "version": "3.12.4"
  }
 },
 "nbformat": 4,
 "nbformat_minor": 5
}
