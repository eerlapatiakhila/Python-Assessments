{
 "cells": [
  {
   "cell_type": "code",
   "execution_count": 9,
   "id": "2750d2d5-93df-4db1-aadf-dc8e1df6a0f3",
   "metadata": {},
   "outputs": [
    {
     "name": "stdout",
     "output_type": "stream",
     "text": [
      "Addition: 18\n",
      "Subtraction: 12\n",
      "Multiplication: 45\n",
      "Division: 5.0\n"
     ]
    }
   ],
   "source": [
    "# program 1: functions for Arthemetic operators\n",
    "def arithmetic_operators(a, b):\n",
    "    addition = a + b\n",
    "    subtraction = a - b\n",
    "    multiplication = a *b\n",
    "    division = a / b \n",
    "\n",
    "    return addition, subtraction, multiplication, division\n",
    "num1 = 15\n",
    "num2 = 3\n",
    "results = arithmetic_operations(num1, num2)\n",
    "\n",
    "print(f\"Addition: {results[0]}\")\n",
    "print(f\"Subtraction: {results[1]}\")\n",
    "print(f\"Multiplication: {results[2]}\")\n",
    "print(f\"Division: {results[3]}\")"
   ]
  },
  {
   "cell_type": "code",
   "execution_count": 17,
   "id": "bb37f272-a6a0-4d74-9673-06828a33a4a2",
   "metadata": {},
   "outputs": [
    {
     "name": "stdout",
     "output_type": "stream",
     "text": [
      "Original value: 10\n",
      "After increment: 11\n",
      "After decrement: 10\n"
     ]
    }
   ],
   "source": [
    "# program 2 : increment and decrement operators(++, --)\n",
    "def incre_decre(val):\n",
    "    print(f\"Original value: {val}\")\n",
    "    val += 1\n",
    "    print(f\"After increment: {val}\")\n",
    "    val -= 1\n",
    "    print(f\"After decrement: {val}\")\n",
    "num = 10\n",
    "incre_decre(num)"
   ]
  },
  {
   "cell_type": "code",
   "execution_count": 21,
   "id": "d4fbfd76-a00f-4640-b360-a1a0de5dc0d6",
   "metadata": {},
   "outputs": [
    {
     "name": "stdin",
     "output_type": "stream",
     "text": [
      " first number:  12\n",
      " second number:  12\n"
     ]
    },
    {
     "name": "stdout",
     "output_type": "stream",
     "text": [
      "The two numbers are equal.\n"
     ]
    }
   ],
   "source": [
    "#program 3:program to find the two numbers equal or not\n",
    "# Take input from the user\n",
    "a = int(input(\" first number: \"))\n",
    "b = int(input(\" second number: \"))\n",
    "if a == b:\n",
    "    print(\"The two numbers are equal.\")\n",
    "else:\n",
    "    print(\"The two numbers are not equal.\")"
   ]
  },
  {
   "cell_type": "code",
   "execution_count": 23,
   "id": "fe9364e1-c4e6-4ee4-8092-2240f722a0c7",
   "metadata": {},
   "outputs": [
    {
     "name": "stdin",
     "output_type": "stream",
     "text": [
      " first number:  10\n",
      " second number:  20\n"
     ]
    },
    {
     "name": "stdout",
     "output_type": "stream",
     "text": [
      "10 < 20: True\n",
      "10 <= 20: True\n",
      "10 > 20: False\n",
      "10 >= 20: False\n"
     ]
    }
   ],
   "source": [
    "#program 4 :program for relational operators\n",
    "\n",
    "a = int(input(\" first number: \"))\n",
    "b = int(input(\" second number: \"))\n",
    "# Using relational operators\n",
    "print(f\"{a} < {b}: {a < b}\")   \n",
    "print(f\"{a} <= {b}: {a <= b}\")\n",
    "print(f\"{a} > {b}: {a > b}\")   \n",
    "print(f\"{a} >= {b}: {a >= b}\") "
   ]
  },
  {
   "cell_type": "code",
   "execution_count": 34,
   "id": "e8d7fa55-6d3b-4774-afa1-5e6461cf872e",
   "metadata": {},
   "outputs": [
    {
     "name": "stdin",
     "output_type": "stream",
     "text": [
      "first number:  20\n",
      " second number:  10\n"
     ]
    },
    {
     "name": "stdout",
     "output_type": "stream",
     "text": [
      "The smaller number is: 10\n",
      "The larger number is: 20\n"
     ]
    }
   ],
   "source": [
    "#program 5 : print smaller and larger numbers\n",
    "\n",
    "a = input(\"first number: \")\n",
    "b = input(\" second number: \")\n",
    "if a < b:\n",
    "    print(f\"The smaller number is: {a}\")\n",
    "    print(f\"The larger number is: {b}\")\n",
    "elif a > b:\n",
    "    print(f\"The smaller number is: {b}\")\n",
    "    print(f\"The larger number is: {a}\")\n",
    "else:\n",
    "    print(\"Both numbers are equal.\")"
   ]
  },
  {
   "cell_type": "code",
   "execution_count": null,
   "id": "b7c6f727-5cc9-49f9-8ecb-fe0d33974963",
   "metadata": {},
   "outputs": [],
   "source": []
  },
  {
   "cell_type": "code",
   "execution_count": null,
   "id": "bf3885ec-6e79-4d13-b270-be4905cd51c9",
   "metadata": {},
   "outputs": [],
   "source": []
  }
 ],
 "metadata": {
  "kernelspec": {
   "display_name": "Python 3 (ipykernel)",
   "language": "python",
   "name": "python3"
  },
  "language_info": {
   "codemirror_mode": {
    "name": "ipython",
    "version": 3
   },
   "file_extension": ".py",
   "mimetype": "text/x-python",
   "name": "python",
   "nbconvert_exporter": "python",
   "pygments_lexer": "ipython3",
   "version": "3.12.4"
  }
 },
 "nbformat": 4,
 "nbformat_minor": 5
}
