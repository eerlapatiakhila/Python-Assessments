{
 "cells": [
  {
   "cell_type": "code",
   "execution_count": 1,
   "id": "cd664c65-e989-416a-b023-b9aff042c547",
   "metadata": {},
   "outputs": [
    {
     "ename": "ZeroDivisionError",
     "evalue": "division by zero",
     "output_type": "error",
     "traceback": [
      "\u001b[1;31m---------------------------------------------------------------------------\u001b[0m",
      "\u001b[1;31mZeroDivisionError\u001b[0m                         Traceback (most recent call last)",
      "Cell \u001b[1;32mIn[1], line 7\u001b[0m\n\u001b[0;32m      4\u001b[0m denominator \u001b[38;5;241m=\u001b[39m \u001b[38;5;241m0\u001b[39m\n\u001b[0;32m      6\u001b[0m \u001b[38;5;66;03m# Attempting to divide by zero will raise an exception\u001b[39;00m\n\u001b[1;32m----> 7\u001b[0m result \u001b[38;5;241m=\u001b[39m numerator \u001b[38;5;241m/\u001b[39m denominator\n\u001b[0;32m      9\u001b[0m \u001b[38;5;28mprint\u001b[39m(\u001b[38;5;124m\"\u001b[39m\u001b[38;5;124mThe result is:\u001b[39m\u001b[38;5;124m\"\u001b[39m, result)\n",
      "\u001b[1;31mZeroDivisionError\u001b[0m: division by zero"
     ]
    }
   ],
   "source": [
    "#program 1 Write a program to generate Arithmetic Exception without exception handling \n",
    "# This will generate a ZeroDivisionError\n",
    "numerator = 10\n",
    "denominator = 0\n",
    "\n",
    "# Attempting to divide by zero will raise an exception\n",
    "result = numerator / denominator\n",
    "\n",
    "print(\"The result is:\", result)"
   ]
  },
  {
   "cell_type": "code",
   "execution_count": 45,
   "id": "ff6cf595-1573-4dff-9b1e-529570b62ddc",
   "metadata": {},
   "outputs": [
    {
     "name": "stdin",
     "output_type": "stream",
     "text": [
      "Enter the numerator:  10\n",
      "Enter the denominator:  20\n"
     ]
    },
    {
     "name": "stdout",
     "output_type": "stream",
     "text": [
      "The result is: 0.5\n",
      "Operation complete.\n"
     ]
    }
   ],
   "source": [
    "#program 2 :Handle the Arithmetic exception using try-catch block\n",
    "def divide_numbers():\n",
    "    try:\n",
    "        num1 = int(input(\"Enter the numerator: \"))\n",
    "        num2 = int(input(\"Enter the denominator: \"))\n",
    "        result = num1 / num2  # This can raise ZeroDivisionError\n",
    "        print(f\"The result is: {result}\")\n",
    "    except ZeroDivisionError:\n",
    "        print(\"Error: Cannot divide by zero.\")\n",
    "    except ValueError:\n",
    "        print(\"Error: Please enter valid integers.\")\n",
    "    finally:\n",
    "        print(\"Operation complete.\")\n",
    "\n",
    "if __name__ == \"__main__\":\n",
    "    divide_numbers()\n"
   ]
  },
  {
   "cell_type": "code",
   "execution_count": 17,
   "id": "f1eb1b0e-9a0f-4ad3-9f3f-7c216464981c",
   "metadata": {},
   "outputs": [
    {
     "name": "stdin",
     "output_type": "stream",
     "text": [
      "Enter a value:  10\n"
     ]
    },
    {
     "name": "stdout",
     "output_type": "stream",
     "text": [
      "The value 10 is valid.\n"
     ]
    }
   ],
   "source": [
    "#program 3 : Write a method which throws exception, Call that method in main class without try block\n",
    "class MyClass:\n",
    "    def check_value(self, value):\n",
    "        # Raise an exception if the value is less than 10\n",
    "        if value < 10:\n",
    "            raise ValueError(\"Value must be 10 or greater!\")\n",
    "        print(f\"The value {value} is valid.\")\n",
    "\n",
    "def main():\n",
    "    obj = MyClass()\n",
    "    # Call the method without try-catch, so it will raise an exception if value is less than 10\n",
    "    value = int(input(\"Enter a value: \"))\n",
    "    obj.check_value(value)\n",
    "\n",
    "if __name__ == \"__main__\":\n",
    "    main()\n"
   ]
  },
  {
   "cell_type": "code",
   "execution_count": 23,
   "id": "6bf048e1-9c6b-41c4-bc4c-ca332f7dac09",
   "metadata": {},
   "outputs": [
    {
     "name": "stdin",
     "output_type": "stream",
     "text": [
      "Enter the first number:  10\n",
      "Enter the second number:  20\n"
     ]
    },
    {
     "name": "stdout",
     "output_type": "stream",
     "text": [
      "The result of 10 / 20 is: 0.5\n",
      "Division was successful.\n",
      "Execution complete.\n"
     ]
    }
   ],
   "source": [
    "#program 4 : Write a program with multiple catch blocks\n",
    "def perform_calculation():\n",
    "    try:\n",
    "        num1 = int(input(\"Enter the first number: \"))\n",
    "        num2 = int(input(\"Enter the second number: \"))\n",
    "        \n",
    "        # Potential errors: Division by zero, ValueError, etc.\n",
    "        result = num1 / num2\n",
    "        print(f\"The result of {num1} / {num2} is: {result}\")\n",
    "        \n",
    "    except ZeroDivisionError:\n",
    "        print(\"Error: Cannot divide by zero.\")\n",
    "        \n",
    "    except ValueError:\n",
    "        print(\"Error: Invalid input. Please enter a valid integer.\")\n",
    "        \n",
    "    except ArithmeticError:\n",
    "        print(\"Error: An arithmetic error occurred.\")\n",
    "        \n",
    "    except Exception as e:\n",
    "        print(f\"Unexpected error: {e}\")\n",
    "        \n",
    "    else:\n",
    "        print(\"Division was successful.\")\n",
    "        \n",
    "    finally:\n",
    "        print(\"Execution complete.\")\n",
    "\n",
    "if __name__ == \"__main__\":\n",
    "    perform_calculation()\n"
   ]
  },
  {
   "cell_type": "code",
   "execution_count": 25,
   "id": "191503cc-3648-4f1e-81ee-d1ce5529508b",
   "metadata": {},
   "outputs": [
    {
     "name": "stdin",
     "output_type": "stream",
     "text": [
      "Enter your age:  20\n"
     ]
    },
    {
     "name": "stdout",
     "output_type": "stream",
     "text": [
      "You are eligible.\n"
     ]
    }
   ],
   "source": [
    "#program 5 : Write a program to throw exception with your own message\n",
    "def check_age(age):\n",
    "    if age < 18:\n",
    "        raise ValueError(\"Age must be 18 or older.\")\n",
    "    else:\n",
    "        print(\"You are eligible.\")\n",
    "\n",
    "try:\n",
    "    age = int(input(\"Enter your age: \"))\n",
    "    check_age(age)\n",
    "except ValueError as e:\n",
    "    print(f\"Error: {e}\")"
   ]
  },
  {
   "cell_type": "code",
   "execution_count": 27,
   "id": "f82c9878-8679-4240-9dc9-28e5079f1c45",
   "metadata": {},
   "outputs": [
    {
     "name": "stdout",
     "output_type": "stream",
     "text": [
      "Custom Exception occurred: This is a user-defined exception!\n",
      "Execution completed, cleaning up resources if any.\n"
     ]
    }
   ],
   "source": [
    "#program 6: Write a program to create your own exception\n",
    "class CustomException(Exception):\n",
    "    def _init_(self, message):\n",
    "        super()._init_(message)\n",
    "\n",
    "try:\n",
    "    # Raising a custom exception\n",
    "    raise CustomException(\"This is a user-defined exception!\")\n",
    "except CustomException as e:\n",
    "    # Catching and printing the custom exception\n",
    "    print(f\"Custom Exception occurred: {e}\")\n",
    "finally:\n",
    "    print(\"Execution completed, cleaning up resources if any.\")\n",
    "\n"
   ]
  },
  {
   "cell_type": "code",
   "execution_count": 29,
   "id": "0a76c656-de54-4a7c-907c-7e3a5bf962c4",
   "metadata": {},
   "outputs": [
    {
     "name": "stdout",
     "output_type": "stream",
     "text": [
      "Arithmetic Exception occurred: division by zero\n",
      "Execution completed, cleaning up resources if any.\n"
     ]
    }
   ],
   "source": [
    "#program 7:Write a program with finally block\n",
    "try:\n",
    "    # Attempting to divide by zero to trigger an Arithmetic Exception\n",
    "    result = 10 / 0\n",
    "    print(result)\n",
    "except ZeroDivisionError as e:\n",
    "    # Catching and printing ZeroDivisionError\n",
    "    print(f\"Arithmetic Exception occurred: {e}\")\n",
    "finally:\n",
    "    # Finally block always executes\n",
    "    print(\"Execution completed, cleaning up resources if any.\")\n"
   ]
  },
  {
   "cell_type": "code",
   "execution_count": 31,
   "id": "269f5d7e-a435-44c3-96b0-31e7fb083d36",
   "metadata": {},
   "outputs": [
    {
     "name": "stdout",
     "output_type": "stream",
     "text": [
      "Arithmetic Exception occurred: division by zero\n"
     ]
    }
   ],
   "source": [
    "#progarm 8:Write a program to generate Arithmetic Exception\n",
    "try:\n",
    "    # Attempting to divide by zero to trigger an Arithmetic Exception\n",
    "    result = 10 / 0\n",
    "    print(result)\n",
    "except ZeroDivisionError as e:\n",
    "    # Catching and printing ZeroDivisionError\n",
    "    print(f\"Arithmetic Exception occurred: {e}\")\n"
   ]
  },
  {
   "cell_type": "code",
   "execution_count": 33,
   "id": "f57671be-7787-4f71-85b3-ab1878a802b5",
   "metadata": {},
   "outputs": [
    {
     "name": "stdout",
     "output_type": "stream",
     "text": [
      "File not found: [Errno 2] No such file or directory: 'non_existent_file.txt'\n"
     ]
    }
   ],
   "source": [
    "#program 9:Write a program to generate FileNotFoundException\n",
    "try:\n",
    "    # Attempting to open a non-existent file\n",
    "    with open(\"non_existent_file.txt\", \"r\") as file:\n",
    "        print(file.read())\n",
    "except FileNotFoundError as e:\n",
    "    # Catching and printing FileNotFoundError\n",
    "    print(f\"File not found: {e}\")\n"
   ]
  },
  {
   "cell_type": "code",
   "execution_count": 39,
   "id": "6a49d804-13ad-40b5-bd81-9444e5ce867c",
   "metadata": {},
   "outputs": [
    {
     "name": "stdout",
     "output_type": "stream",
     "text": [
      "Error: Class not found! No module named 'some_non_existent_module'\n",
      "Execution complete.\n"
     ]
    }
   ],
   "source": [
    "#program 10 :Write a program to generate ClassNotFoundException\n",
    "def load_class():\n",
    "    try:\n",
    "        # Trying to import a non-existing class (simulating ClassNotFoundException)\n",
    "        from some_non_existent_module import NonExistentClass\n",
    "        print(\"Class loaded successfully!\")\n",
    "    except ImportError as e:\n",
    "        print(f\"Error: Class not found! {e}\")\n",
    "    except Exception as e:\n",
    "        print(f\"Unexpected error occurred: {e}\")\n",
    "    else:\n",
    "        print(\"Class loading was successful.\")\n",
    "    finally:\n",
    "        print(\"Execution complete.\")\n",
    "\n",
    "if __name__ == \"__main__\":\n",
    "    load_class()\n",
    "\n"
   ]
  },
  {
   "cell_type": "code",
   "execution_count": 41,
   "id": "916b7705-f635-4861-bf11-778827e8f332",
   "metadata": {},
   "outputs": [
    {
     "name": "stdout",
     "output_type": "stream",
     "text": [
      "Caught custom IOException: Custom IOException message\n"
     ]
    }
   ],
   "source": [
    "#program 11:Write a program to generate IOException\n",
    "class IOException(Exception):\n",
    "    pass\n",
    "\n",
    "try:\n",
    "    raise IOException(\"Custom IOException message\")\n",
    "except IOException as e:\n",
    "    print(f\"Caught custom IOException: {e}\")\n"
   ]
  },
  {
   "cell_type": "code",
   "execution_count": 43,
   "id": "15a947e5-ab82-4ecf-a86a-2cfd5a3ad55c",
   "metadata": {},
   "outputs": [
    {
     "name": "stdout",
     "output_type": "stream",
     "text": [
      "Error: Field not found! 'MyClass' object has no attribute 'non_existent_field'\n",
      "Execution complete.\n"
     ]
    }
   ],
   "source": [
    "#program 12:Write a program to generate IOException\n",
    "class MyClass:\n",
    "    def __init__(self):\n",
    "        self.existing_field = \"This is an existing field.\"\n",
    "\n",
    "def access_field():\n",
    "    try:\n",
    "        obj = MyClass()\n",
    "        \n",
    "        # Try to access a field that doesn't exist\n",
    "        print(obj.non_existent_field)  # This will raise AttributeError\n",
    "        \n",
    "    except AttributeError as e:\n",
    "        print(f\"Error: Field not found! {e}\")\n",
    "    except Exception as e:\n",
    "        print(f\"Unexpected error occurred: {e}\")\n",
    "    else:\n",
    "        print(\"Field access was successful.\")\n",
    "    finally:\n",
    "        print(\"Execution complete.\")\n",
    "\n",
    "if __name__ == \"__main__\":\n",
    "    access_field()\n"
   ]
  },
  {
   "cell_type": "code",
   "execution_count": null,
   "id": "2c4391fb-110e-494a-befb-dee21e7ec858",
   "metadata": {},
   "outputs": [],
   "source": []
  }
 ],
 "metadata": {
  "kernelspec": {
   "display_name": "Python 3 (ipykernel)",
   "language": "python",
   "name": "python3"
  },
  "language_info": {
   "codemirror_mode": {
    "name": "ipython",
    "version": 3
   },
   "file_extension": ".py",
   "mimetype": "text/x-python",
   "name": "python",
   "nbconvert_exporter": "python",
   "pygments_lexer": "ipython3",
   "version": "3.12.4"
  }
 },
 "nbformat": 4,
 "nbformat_minor": 5
}
