{
 "cells": [
  {
   "cell_type": "code",
   "execution_count": 1,
   "id": "5e22c1d0-fc01-4cb3-9729-8a8f7fdd8057",
   "metadata": {},
   "outputs": [
    {
     "name": "stdout",
     "output_type": "stream",
     "text": [
      "Non-abstract method from BaseClass.\n"
     ]
    }
   ],
   "source": [
    "#program 1:1. Create an abstract class with abstract and non-abstract methods. \n",
    "from abc import ABC, abstractmethod\n",
    "\n",
    "class BaseClass(ABC):\n",
    "    @abstractmethod\n",
    "    def abstract_method(self):\n",
    "        pass\n",
    "    \n",
    "    def non_abstract_method(self):\n",
    "        print(\"Non-abstract method from BaseClass.\")\n",
    "\n",
    "class ChildClass(BaseClass):\n",
    "    def abstract_method(self):\n",
    "        print(\"Implemented abstract method.\")\n",
    "    \n",
    "    def create_and_use_instance(self):\n",
    "        ChildClass().non_abstract_method()\n",
    "\n",
    "\n",
    "ChildClass().create_and_use_instance()\n"
   ]
  },
  {
   "cell_type": "code",
   "execution_count": 3,
   "id": "a01b38e0-07fb-4919-8e63-dcae291c7471",
   "metadata": {},
   "outputs": [
    {
     "name": "stdout",
     "output_type": "stream",
     "text": [
      "Abstract method implemented.\n",
      "Non-abstract method.\n"
     ]
    }
   ],
   "source": [
    "#program 2:Create a sub class for an abstract class.. Create an object in the child class for the abstract class and access the non-abstract methods.\n",
    "from abc import ABC, abstractmethod\n",
    "\n",
    "class MyAbstractClass(ABC):\n",
    "    @abstractmethod\n",
    "    def abstract_method(self):\n",
    "        pass\n",
    "    \n",
    "    def non_abstract_method(self):\n",
    "        print(\"Non-abstract method.\")\n",
    "\n",
    "class ConcreteClass(MyAbstractClass):\n",
    "    def abstract_method(self):\n",
    "        print(\"Abstract method implemented.\")\n",
    "\n",
    "# Test\n",
    "obj = ConcreteClass()\n",
    "obj.abstract_method()\n",
    "obj.non_abstract_method()\n"
   ]
  },
  {
   "cell_type": "code",
   "execution_count": 5,
   "id": "98323276-a306-4392-a8f7-6203d6c85c53",
   "metadata": {},
   "outputs": [
    {
     "name": "stdout",
     "output_type": "stream",
     "text": [
      "Non-abstract method.\n"
     ]
    }
   ],
   "source": [
    "#program 3:Create an instance for the child class in child class and call abstract methods\n",
    "from abc import ABC, abstractmethod\n",
    "\n",
    "class MyAbstractClass(ABC):\n",
    "    @abstractmethod\n",
    "    def abstract_method(self):\n",
    "        pass\n",
    "    \n",
    "    def non_abstract_method(self):\n",
    "        print(\"Non-abstract method.\")\n",
    "\n",
    "class ConcreteClass(MyAbstractClass):\n",
    "    def abstract_method(self):\n",
    "        print(\"Abstract method implemented.\")\n",
    "\n",
    "    def create_and_access(self):\n",
    "        ConcreteClass().non_abstract_method()\n",
    "\n",
    "# Test\n",
    "ConcreteClass().create_and_access()\n"
   ]
  },
  {
   "cell_type": "code",
   "execution_count": 3,
   "id": "a998b603-bb11-4780-9513-70ddbd909922",
   "metadata": {},
   "outputs": [
    {
     "name": "stdout",
     "output_type": "stream",
     "text": [
      "Abstract method implemented.\n"
     ]
    }
   ],
   "source": [
    "#program 4:Create an instance for the child class in child class and call non-abstract methods\n",
    "from abc import ABC, abstractmethod\n",
    "\n",
    "class MyAbstractClass(ABC):\n",
    "    @abstractmethod\n",
    "    def abstract_method(self):\n",
    "        pass\n",
    "\n",
    "class ConcreteClass(MyAbstractClass):\n",
    "    def abstract_method(self):\n",
    "        print(\"Abstract method implemented.\")\n",
    "\n",
    "    def create_and_call(self):\n",
    "\n",
    "        child_instance = ConcreteClass()\n",
    "        child_instance.abstract_method()  \n",
    "\n",
    "ConcreteClass().create_and_call()\n"
   ]
  },
  {
   "cell_type": "code",
   "execution_count": null,
   "id": "10371218-426c-4d60-8941-085740a9fdc3",
   "metadata": {},
   "outputs": [],
   "source": []
  }
 ],
 "metadata": {
  "kernelspec": {
   "display_name": "Python 3 (ipykernel)",
   "language": "python",
   "name": "python3"
  },
  "language_info": {
   "codemirror_mode": {
    "name": "ipython",
    "version": 3
   },
   "file_extension": ".py",
   "mimetype": "text/x-python",
   "name": "python",
   "nbconvert_exporter": "python",
   "pygments_lexer": "ipython3",
   "version": "3.12.4"
  }
 },
 "nbformat": 4,
 "nbformat_minor": 5
}
