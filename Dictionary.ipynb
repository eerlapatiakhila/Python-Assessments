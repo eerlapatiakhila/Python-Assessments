{
 "cells": [
  {
   "cell_type": "code",
   "execution_count": 1,
   "id": "9ceecbe2-a4c6-499b-867e-0c7fc5da96c3",
   "metadata": {},
   "outputs": [
    {
     "name": "stdout",
     "output_type": "stream",
     "text": [
      "After adding a value :  {'s01': 'Mounika', 's02': 'Tiana', 's03': 'Kitty', 's04': 'Monkey', 's05': 'Quarrel', 's06': 'Sailaja'}\n",
      "After updating a value :  {'s01': 'Mounika', 's02': 'Nandu', 's03': 'Kitty', 's04': 'Monkey', 's05': 'Quarrel', 's06': 'Sailaja'}\n",
      "Accessing the value of 's01':  Mounika\n",
      "Nested Dictionary:  {'class_1': {'s01': 'Mounika', 's03': 'kitty'}, 'class_2': {'s02': 'Tiana', 's04': 'Monkey'}}\n",
      "Accessing the values of nested loop dictionary :  Mounika\n",
      "Keys in the Dictionary: dict_keys(['s01', 's02', 's03', 's04', 's05', 's06'])\n",
      "After Deleting a Value :  {'s01': 'Mounika', 's02': 'Nandu', 's03': 'Kitty', 's04': 'Monkey', 's05': 'Quarrel'}\n"
     ]
    }
   ],
   "source": [
    "#Create a Dictionary with at least 5 key value pairs of the Student ID and Name\n",
    "students={\n",
    "    's01':'Mounika',\n",
    "    's02':'Tiana',\n",
    "    's03':'Kitty',\n",
    "    's04':'Monkey',\n",
    "    's05':'Quarrel'\n",
    "    }\n",
    "\n",
    "#Adding the values in dictionary\n",
    "students ['s06']='Sailaja'\n",
    "print(\"After adding a value : \",students)\n",
    "\n",
    "#Updating the values in dictionary\n",
    "students['s02']='Nandu'\n",
    "print(\"After updating a value : \",students)\n",
    "\n",
    "#Accessing the value in dictionary\n",
    "print(\"Accessing the value of 's01': \", students['s01'])\n",
    "\n",
    "#Create a nested loop dictionary\n",
    "\n",
    "nested_students={\n",
    "    'class_1':{\n",
    "        's01':'Mounika',\n",
    "        's03':'kitty'\n",
    "        },\n",
    "    'class_2':{\n",
    "        's02':'Tiana',\n",
    "        's04':'Monkey'\n",
    "        }\n",
    "    }\n",
    "print(\"Nested Dictionary: \", nested_students)\n",
    "\n",
    "\n",
    "#Access the values of nested loop dictionary\n",
    "print(\"Accessing the values of nested loop dictionary : \",nested_students['class_1']['s01'])\n",
    "\n",
    "#Print the keys present in a particular dictionary\n",
    "print(\"Keys in the Dictionary:\",students.keys())\n",
    "\n",
    "\n",
    "#Delete a value from a dictionary\n",
    "del students['s06']\n",
    "print(\"After Deleting a Value : \",students)"
   ]
  },
  {
   "cell_type": "code",
   "execution_count": null,
   "id": "46b66c46-e738-49fa-a69a-13e8148f4e35",
   "metadata": {},
   "outputs": [],
   "source": []
  }
 ],
 "metadata": {
  "kernelspec": {
   "display_name": "Python 3 (ipykernel)",
   "language": "python",
   "name": "python3"
  },
  "language_info": {
   "codemirror_mode": {
    "name": "ipython",
    "version": 3
   },
   "file_extension": ".py",
   "mimetype": "text/x-python",
   "name": "python",
   "nbconvert_exporter": "python",
   "pygments_lexer": "ipython3",
   "version": "3.12.4"
  }
 },
 "nbformat": 4,
 "nbformat_minor": 5
}
