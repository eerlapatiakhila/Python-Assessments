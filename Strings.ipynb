{
 "cells": [
  {
   "cell_type": "code",
   "execution_count": 1,
   "id": "3ec6da87-7b52-4f11-90d7-ea6a2f60b440",
   "metadata": {},
   "outputs": [
    {
     "name": "stdout",
     "output_type": "stream",
     "text": [
      "Hello, World!\n",
      "Python is awesome!\n"
     ]
    }
   ],
   "source": [
    "#program 1:Different ways creating a string \n",
    "#use single quotes\n",
    "string1 = 'Hello, World!'\n",
    "print(string1)\n",
    "#use Double quotes\n",
    "string2 = \"Python is awesome!\"\n",
    "print(string2)"
   ]
  },
  {
   "cell_type": "code",
   "execution_count": 3,
   "id": "c2c0f8c5-7066-4e81-970e-ee8d80e32cb6",
   "metadata": {},
   "outputs": [
    {
     "name": "stdout",
     "output_type": "stream",
     "text": [
      "Hello World!\n"
     ]
    }
   ],
   "source": [
    "#program 2: Concatenating two strings using + operator\n",
    "# Define two strings\n",
    "string1 = \"Hello\"\n",
    "string2 = \"World!\"\n",
    "result = string1 + \" \" + string2\n",
    "print(result)\n"
   ]
  },
  {
   "cell_type": "code",
   "execution_count": 5,
   "id": "7da2aaa8-ecbc-462b-a0b2-b0cf5ca4536f",
   "metadata": {},
   "outputs": [
    {
     "name": "stdout",
     "output_type": "stream",
     "text": [
      "The length of the string is: 13\n"
     ]
    }
   ],
   "source": [
    "#program 3:Finding the length of the string\n",
    "def string_length(s):\n",
    "    count = 0\n",
    "    for char in s:\n",
    "        count += 1\n",
    "    return count\n",
    "string = \"Hello, World!\"\n",
    "length = string_length(string)\n",
    "print(f\"The length of the string is: {length}\")\n"
   ]
  },
  {
   "cell_type": "code",
   "execution_count": 7,
   "id": "e5610812-66f8-4f2f-ac0f-d61fd65ca1af",
   "metadata": {},
   "outputs": [
    {
     "name": "stdout",
     "output_type": "stream",
     "text": [
      "World\n"
     ]
    }
   ],
   "source": [
    "#program 4:Extract a string using Substring\n",
    "\n",
    "string = \"Hello, World!\"\n",
    "substring = string[7:12]\n",
    "print(substring)\n"
   ]
  },
  {
   "cell_type": "code",
   "execution_count": 9,
   "id": "e08805a1-e27e-4bd2-b4a2-7e7fe68307a8",
   "metadata": {},
   "outputs": [
    {
     "name": "stdout",
     "output_type": "stream",
     "text": [
      "Index of 'Hello' after index 7: 14\n"
     ]
    }
   ],
   "source": [
    "#program 5:Searching in strings using index()\n",
    "string = \"Hello, World! Hello again!\"\n",
    "index = string.index(\"Hello\", 7)\n",
    "print(\"Index of 'Hello' after index 7:\", index)\n"
   ]
  },
  {
   "cell_type": "code",
   "execution_count": 11,
   "id": "4832972b-fa4f-424c-a2e7-5e58ee37f6b3",
   "metadata": {},
   "outputs": [
    {
     "name": "stdout",
     "output_type": "stream",
     "text": [
      "Match found!\n"
     ]
    }
   ],
   "source": [
    "#program 6:\n",
    "import re\n",
    "\n",
    "# Define the pattern and string\n",
    "pattern = r\"Hello\"\n",
    "string = \"Hello, World!\"\n",
    "\n",
    "# Check if the string matches the pattern from the beginning\n",
    "match = re.match(pattern, string)\n",
    "\n",
    "if match:\n",
    "    print(\"Match found!\")\n",
    "else:\n",
    "    print(\"Match not found!\")\n"
   ]
  },
  {
   "cell_type": "code",
   "execution_count": 19,
   "id": "6766e2fd-7ffa-4c3e-8dad-e0b9052c3837",
   "metadata": {},
   "outputs": [
    {
     "name": "stdout",
     "output_type": "stream",
     "text": [
      "False\n",
      "False\n",
      "True\n"
     ]
    }
   ],
   "source": [
    "#program 7 :Comparing strings\n",
    "#method 1- =\n",
    "string1 = \"apple\"\n",
    "string2 = \"banana\"\n",
    "print(string1 == string2)  \n",
    "#method 2 - is\n",
    "print(string1 is string2)   \n",
    "#method 3-!=\n",
    "print(string1 != string2)  "
   ]
  },
  {
   "cell_type": "code",
   "execution_count": 21,
   "id": "0e81dbe3-d8ee-4a39-b5fd-71ebb42fe3fc",
   "metadata": {},
   "outputs": [
    {
     "name": "stdout",
     "output_type": "stream",
     "text": [
      "True\n",
      "True\n",
      "True\n",
      "True\n",
      "False\n"
     ]
    }
   ],
   "source": [
    "#program 8 startswth(),endswith() and comparing strings\n",
    "string = \"Hello, World!\"\n",
    "\n",
    "# Check the start and end of the string\n",
    "print(string.startswith(\"Hello\")) \n",
    "print(string.endswith(\"World!\"))  \n",
    "\n",
    "# Compare strings\n",
    "print(\"apple\" < \"banana\")  \n",
    "print(\"apple\" == \"apple\")  \n",
    "print(\"apple\" > \"banana\")  \n"
   ]
  },
  {
   "cell_type": "code",
   "execution_count": 23,
   "id": "6c9e3598-a0c7-4c55-adb1-f0cee47fdf07",
   "metadata": {},
   "outputs": [
    {
     "name": "stdout",
     "output_type": "stream",
     "text": [
      "Original: '   Hello, World!   '\n",
      "trimmed_string:'Hello, World!'\n",
      "Leading trimmed: 'Hello, World!   '\n",
      "Trailing trimmed: '   Hello, World!'\n"
     ]
    }
   ],
   "source": [
    "#program 9:Trimming strings with strip\n",
    "string = \"   Hello, World!   \"\n",
    "leading_trimmed = string.lstrip()\n",
    "trailing_trimmed = string.rstrip()\n",
    "trimmed_string = string.strip()\n",
    "print(f\"Original: '{string}'\")\n",
    "print(f\"trimmed_string:'{trimmed_string}'\")\n",
    "print(f\"Leading trimmed: '{leading_trimmed}'\")\n",
    "print(f\"Trailing trimmed: '{trailing_trimmed}'\")\n"
   ]
  },
  {
   "cell_type": "code",
   "execution_count": 25,
   "id": "7a4ab537-a9cd-4406-8cbd-68182cbd91b4",
   "metadata": {},
   "outputs": [
    {
     "name": "stdout",
     "output_type": "stream",
     "text": [
      "Original: Apples are good for health\n",
      "Modified: Oranges are good for health\n"
     ]
    }
   ],
   "source": [
    "#program 10 :Replacing characters in strings with replace()\n",
    "\n",
    "string = \"Apples are good for health\"\n",
    "\n",
    "# Replace all occurrences of \"Apples\" with \"Oranges\"\n",
    "new_string = string.replace(\"Apples\", \"Oranges\")\n",
    "print(f\"Original: {string}\")\n",
    "print(f\"Modified: {new_string}\")\n"
   ]
  },
  {
   "cell_type": "code",
   "execution_count": 27,
   "id": "6fff5049-835a-4bf6-83ef-3f6e44d66eaa",
   "metadata": {},
   "outputs": [
    {
     "name": "stdout",
     "output_type": "stream",
     "text": [
      "Original: 'Hello, how are you?'\n",
      "Split into words: ['Hello,', 'how', 'are', 'you?']\n"
     ]
    }
   ],
   "source": [
    "#program 11:Splitting strings with split()\n",
    "string = \"Hello, how are you?\"\n",
    "words = string.split()\n",
    "print(f\"Original: '{string}'\")\n",
    "print(f\"Split into words: {words}\")\n"
   ]
  },
  {
   "cell_type": "code",
   "execution_count": 29,
   "id": "7d31b426-abab-44fc-85db-4ddc45013c20",
   "metadata": {},
   "outputs": [
    {
     "name": "stdout",
     "output_type": "stream",
     "text": [
      "Integer: 22\n",
      "String: 22\n"
     ]
    }
   ],
   "source": [
    "#program 12:converting integer objects to strings\n",
    "num = 22\n",
    "num_str = str(num)\n",
    "print(f\"Integer: {num}\")\n",
    "print(f\"String: {num_str}\")\n"
   ]
  },
  {
   "cell_type": "code",
   "execution_count": 31,
   "id": "685e7ab7-8209-46e8-8961-61be7eaf5fa4",
   "metadata": {},
   "outputs": [
    {
     "name": "stdout",
     "output_type": "stream",
     "text": [
      "Original: PyThOn Is FuN\n",
      "Uppercase: PYTHON IS FUN\n",
      "Lowercase: python is fun\n"
     ]
    }
   ],
   "source": [
    "#program 13:coverting to uppercase and lower case\n",
    "string = \"PyThOn Is FuN\"\n",
    "\n",
    "# Convert to uppercase\n",
    "upper_string = string.upper()\n",
    "\n",
    "#convert to lower case\n",
    "lower_string = string.lower()\n",
    "print(f\"Original: {string}\")\n",
    "print(f\"Uppercase: {upper_string}\")\n",
    "print(f\"Lowercase: {lower_string}\")\n"
   ]
  },
  {
   "cell_type": "code",
   "execution_count": null,
   "id": "2453daa4-21b7-4077-8205-d6206cfc4e93",
   "metadata": {},
   "outputs": [],
   "source": []
  }
 ],
 "metadata": {
  "kernelspec": {
   "display_name": "Python 3 (ipykernel)",
   "language": "python",
   "name": "python3"
  },
  "language_info": {
   "codemirror_mode": {
    "name": "ipython",
    "version": 3
   },
   "file_extension": ".py",
   "mimetype": "text/x-python",
   "name": "python",
   "nbconvert_exporter": "python",
   "pygments_lexer": "ipython3",
   "version": "3.12.4"
  }
 },
 "nbformat": 4,
 "nbformat_minor": 5
}
